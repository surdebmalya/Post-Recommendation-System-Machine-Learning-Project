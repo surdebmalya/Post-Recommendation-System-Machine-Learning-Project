{
  "cells": [
    {
      "metadata": {
        "collapsed": true
      },
      "cell_type": "markdown",
      "source": "# Post Recommendation System"
    },
    {
      "metadata": {},
      "cell_type": "markdown",
      "source": "Post Recommendation System can be implemented by two different ways.\n1. Content Based Filtering\n2. Collaborative Filtering\n\nHere, I have implemented both of them one by one."
    },
    {
      "metadata": {},
      "cell_type": "markdown",
      "source": "# A. Content Based Filtering Method"
    },
    {
      "metadata": {
        "trusted": true
      },
      "cell_type": "code",
      "source": "import pandas as pd\nimport numpy as np\nfrom sklearn.feature_extraction.text import CountVectorizer\nfrom sklearn.metrics.pairwise import cosine_similarity",
      "execution_count": 1,
      "outputs": []
    },
    {
      "metadata": {
        "trusted": true
      },
      "cell_type": "code",
      "source": "users=pd.read_csv('Mldata/users.csv')\nposts=pd.read_csv('Mldata/posts.csv')\nviews=pd.read_csv('Mldata/views.csv')",
      "execution_count": 2,
      "outputs": []
    },
    {
      "metadata": {},
      "cell_type": "markdown",
      "source": "## User Information"
    },
    {
      "metadata": {
        "trusted": true
      },
      "cell_type": "code",
      "source": "users.info()",
      "execution_count": 3,
      "outputs": [
        {
          "output_type": "stream",
          "text": "<class 'pandas.core.frame.DataFrame'>\nRangeIndex: 118 entries, 0 to 117\nData columns (total 4 columns):\n_id          118 non-null object\nname         118 non-null object\ngender       118 non-null object\nacademics    118 non-null object\ndtypes: object(4)\nmemory usage: 3.8+ KB\n",
          "name": "stdout"
        }
      ]
    },
    {
      "metadata": {
        "trusted": true
      },
      "cell_type": "code",
      "source": "users.head()",
      "execution_count": 4,
      "outputs": [
        {
          "output_type": "execute_result",
          "execution_count": 4,
          "data": {
            "text/html": "<div>\n<style scoped>\n    .dataframe tbody tr th:only-of-type {\n        vertical-align: middle;\n    }\n\n    .dataframe tbody tr th {\n        vertical-align: top;\n    }\n\n    .dataframe thead th {\n        text-align: right;\n    }\n</style>\n<table border=\"1\" class=\"dataframe\">\n  <thead>\n    <tr style=\"text-align: right;\">\n      <th></th>\n      <th>_id</th>\n      <th>name</th>\n      <th>gender</th>\n      <th>academics</th>\n    </tr>\n  </thead>\n  <tbody>\n    <tr>\n      <th>0</th>\n      <td>5d60098a653a331687083238</td>\n      <td>Nivesh Singh Chauhan</td>\n      <td>male</td>\n      <td>undergraduate</td>\n    </tr>\n    <tr>\n      <th>1</th>\n      <td>5d610ae1653a331687083239</td>\n      <td>Gaurav Sharma</td>\n      <td>male</td>\n      <td>graduate</td>\n    </tr>\n    <tr>\n      <th>2</th>\n      <td>5d618359fc5fcf3bdd9a0910</td>\n      <td>Akshay Mishra</td>\n      <td>male</td>\n      <td>undergraduate</td>\n    </tr>\n    <tr>\n      <th>3</th>\n      <td>5d6d2bb87fa40e1417a49315</td>\n      <td>Saksham Mathur</td>\n      <td>male</td>\n      <td>undergraduate</td>\n    </tr>\n    <tr>\n      <th>4</th>\n      <td>5d7c994d5720533e15c3b1e9</td>\n      <td>Varun Chowhan</td>\n      <td>male</td>\n      <td>undergraduate</td>\n    </tr>\n  </tbody>\n</table>\n</div>",
            "text/plain": "                        _id                  name gender      academics\n0  5d60098a653a331687083238  Nivesh Singh Chauhan   male  undergraduate\n1  5d610ae1653a331687083239         Gaurav Sharma   male       graduate\n2  5d618359fc5fcf3bdd9a0910         Akshay Mishra   male  undergraduate\n3  5d6d2bb87fa40e1417a49315        Saksham Mathur   male  undergraduate\n4  5d7c994d5720533e15c3b1e9         Varun Chowhan   male  undergraduate"
          },
          "metadata": {}
        }
      ]
    },
    {
      "metadata": {},
      "cell_type": "markdown",
      "source": "## Post Information"
    },
    {
      "metadata": {
        "trusted": true
      },
      "cell_type": "code",
      "source": "posts.info()",
      "execution_count": 5,
      "outputs": [
        {
          "output_type": "stream",
          "text": "<class 'pandas.core.frame.DataFrame'>\nRangeIndex: 493 entries, 0 to 492\nData columns (total 4 columns):\n_id           493 non-null object\ntitle         493 non-null object\ncategory      465 non-null object\n post_type    493 non-null object\ndtypes: object(4)\nmemory usage: 15.5+ KB\n",
          "name": "stdout"
        }
      ]
    },
    {
      "metadata": {
        "trusted": true
      },
      "cell_type": "code",
      "source": "posts.head()",
      "execution_count": 6,
      "outputs": [
        {
          "output_type": "execute_result",
          "execution_count": 6,
          "data": {
            "text/html": "<div>\n<style scoped>\n    .dataframe tbody tr th:only-of-type {\n        vertical-align: middle;\n    }\n\n    .dataframe tbody tr th {\n        vertical-align: top;\n    }\n\n    .dataframe thead th {\n        text-align: right;\n    }\n</style>\n<table border=\"1\" class=\"dataframe\">\n  <thead>\n    <tr style=\"text-align: right;\">\n      <th></th>\n      <th>_id</th>\n      <th>title</th>\n      <th>category</th>\n      <th>post_type</th>\n    </tr>\n  </thead>\n  <tbody>\n    <tr>\n      <th>0</th>\n      <td>5d62abaa65218653a132c956</td>\n      <td>hello there</td>\n      <td>Plant Biotechnology</td>\n      <td>blog</td>\n    </tr>\n    <tr>\n      <th>1</th>\n      <td>5d6d39567fa40e1417a4931c</td>\n      <td>Ml and AI</td>\n      <td>Artificial Intelligence|Machine Learning|Infor...</td>\n      <td>blog</td>\n    </tr>\n    <tr>\n      <th>2</th>\n      <td>5d7d23315720533e15c3b1ee</td>\n      <td>What is an Operating System ?</td>\n      <td>Operating Systems</td>\n      <td>blog</td>\n    </tr>\n    <tr>\n      <th>3</th>\n      <td>5d7d405e5720533e15c3b1f3</td>\n      <td>Lord Shiva</td>\n      <td>Drawings</td>\n      <td>artwork</td>\n    </tr>\n    <tr>\n      <th>4</th>\n      <td>5d80dfbc6c53455f896e600e</td>\n      <td>How Competition law evolved?</td>\n      <td>Competition Laws</td>\n      <td>blog</td>\n    </tr>\n  </tbody>\n</table>\n</div>",
            "text/plain": "                        _id                          title  \\\n0  5d62abaa65218653a132c956                    hello there   \n1  5d6d39567fa40e1417a4931c                      Ml and AI   \n2  5d7d23315720533e15c3b1ee  What is an Operating System ?   \n3  5d7d405e5720533e15c3b1f3                     Lord Shiva   \n4  5d80dfbc6c53455f896e600e   How Competition law evolved?   \n\n                                            category  post_type  \n0                                Plant Biotechnology       blog  \n1  Artificial Intelligence|Machine Learning|Infor...       blog  \n2                                  Operating Systems       blog  \n3                                           Drawings    artwork  \n4                                   Competition Laws       blog  "
          },
          "metadata": {}
        }
      ]
    },
    {
      "metadata": {},
      "cell_type": "markdown",
      "source": "## View Information"
    },
    {
      "metadata": {
        "trusted": true
      },
      "cell_type": "code",
      "source": "views.info()",
      "execution_count": 7,
      "outputs": [
        {
          "output_type": "stream",
          "text": "<class 'pandas.core.frame.DataFrame'>\nRangeIndex: 1449 entries, 0 to 1448\nData columns (total 3 columns):\nuser_id      1449 non-null object\npost_id      1449 non-null object\ntimestamp    1449 non-null object\ndtypes: object(3)\nmemory usage: 34.0+ KB\n",
          "name": "stdout"
        }
      ]
    },
    {
      "metadata": {
        "trusted": true
      },
      "cell_type": "code",
      "source": "views.head()",
      "execution_count": 8,
      "outputs": [
        {
          "output_type": "execute_result",
          "execution_count": 8,
          "data": {
            "text/html": "<div>\n<style scoped>\n    .dataframe tbody tr th:only-of-type {\n        vertical-align: middle;\n    }\n\n    .dataframe tbody tr th {\n        vertical-align: top;\n    }\n\n    .dataframe thead th {\n        text-align: right;\n    }\n</style>\n<table border=\"1\" class=\"dataframe\">\n  <thead>\n    <tr style=\"text-align: right;\">\n      <th></th>\n      <th>user_id</th>\n      <th>post_id</th>\n      <th>timestamp</th>\n    </tr>\n  </thead>\n  <tbody>\n    <tr>\n      <th>0</th>\n      <td>5df49b32cc709107827fb3c7</td>\n      <td>5ec821ddec493f4a2655889e</td>\n      <td>2020-06-01T10:46:45.131Z</td>\n    </tr>\n    <tr>\n      <th>1</th>\n      <td>5ed3748576027d35905ccaab</td>\n      <td>5ed4cbadbd514d602c1531a6</td>\n      <td>2020-06-01T09:39:20.021Z</td>\n    </tr>\n    <tr>\n      <th>2</th>\n      <td>5ed0defa76027d35905cc2de</td>\n      <td>5eac305f10426255a7aa9dd3</td>\n      <td>2020-06-01T08:12:42.682Z</td>\n    </tr>\n    <tr>\n      <th>3</th>\n      <td>5ed0defa76027d35905cc2de</td>\n      <td>5ed1ff0276027d35905cc60d</td>\n      <td>2020-06-01T08:10:23.880Z</td>\n    </tr>\n    <tr>\n      <th>4</th>\n      <td>5ed0defa76027d35905cc2de</td>\n      <td>5ed3820f76027d35905ccac8</td>\n      <td>2020-06-01T08:08:54.124Z</td>\n    </tr>\n  </tbody>\n</table>\n</div>",
            "text/plain": "                    user_id                   post_id  \\\n0  5df49b32cc709107827fb3c7  5ec821ddec493f4a2655889e   \n1  5ed3748576027d35905ccaab  5ed4cbadbd514d602c1531a6   \n2  5ed0defa76027d35905cc2de  5eac305f10426255a7aa9dd3   \n3  5ed0defa76027d35905cc2de  5ed1ff0276027d35905cc60d   \n4  5ed0defa76027d35905cc2de  5ed3820f76027d35905ccac8   \n\n                  timestamp  \n0  2020-06-01T10:46:45.131Z  \n1  2020-06-01T09:39:20.021Z  \n2  2020-06-01T08:12:42.682Z  \n3  2020-06-01T08:10:23.880Z  \n4  2020-06-01T08:08:54.124Z  "
          },
          "metadata": {}
        }
      ]
    },
    {
      "metadata": {},
      "cell_type": "markdown",
      "source": "## Model Building"
    },
    {
      "metadata": {
        "trusted": true
      },
      "cell_type": "code",
      "source": "users.drop(['name'], axis=1, inplace=True)\nposts.drop(['title'], axis=1, inplace=True)\nviews.drop(['timestamp'], axis=1, inplace=True)",
      "execution_count": 9,
      "outputs": []
    },
    {
      "metadata": {
        "trusted": true
      },
      "cell_type": "code",
      "source": "users_array=users.values\nusers_id_list=list(users['_id'])",
      "execution_count": 10,
      "outputs": []
    },
    {
      "metadata": {
        "trusted": true
      },
      "cell_type": "code",
      "source": "posts['category'].fillna('', inplace=True)\nposts.info()",
      "execution_count": 11,
      "outputs": [
        {
          "output_type": "stream",
          "text": "<class 'pandas.core.frame.DataFrame'>\nRangeIndex: 493 entries, 0 to 492\nData columns (total 3 columns):\n_id           493 non-null object\ncategory      493 non-null object\n post_type    493 non-null object\ndtypes: object(3)\nmemory usage: 11.6+ KB\n",
          "name": "stdout"
        }
      ]
    },
    {
      "metadata": {
        "trusted": true
      },
      "cell_type": "code",
      "source": "posts_array=posts.values\nposts_id_list=list(posts['_id'])",
      "execution_count": 12,
      "outputs": []
    },
    {
      "metadata": {
        "trusted": true
      },
      "cell_type": "code",
      "source": "views_array=views.values",
      "execution_count": 13,
      "outputs": []
    },
    {
      "metadata": {
        "trusted": true
      },
      "cell_type": "code",
      "source": "# category post_type academics gender\nexpanding_table=[]\nclarifying_views_array=[]\nfor user_id, post_id in views_array:\n    try:\n        index_of_user=users_id_list.index(user_id)\n        index_of_post=posts_id_list.index(post_id)\n        clarifying_views_array.append([user_id, post_id])\n        #Category\n        categories=posts_array[index_of_post][1]\n        all_categories=categories.split('|')\n        expanding_table.append([all_categories, posts_array[index_of_post][2], users_array[index_of_user][2], users_array[index_of_user][1]])\n    except:\n        pass",
      "execution_count": 14,
      "outputs": []
    },
    {
      "metadata": {
        "trusted": true
      },
      "cell_type": "code",
      "source": "expanding_table_df=pd.DataFrame(expanding_table, columns=['category', 'post_type', 'academics', 'gender'])\nclarifying_views_df=pd.DataFrame(clarifying_views_array, columns=['user_id', 'post_id'])\nindex=pd.DataFrame(list(range(0, len(clarifying_views_df))), columns=['index'])\nfinal_df=pd.concat([index, clarifying_views_df, expanding_table_df], axis=1)\nfinal_df.head()",
      "execution_count": 15,
      "outputs": [
        {
          "output_type": "execute_result",
          "execution_count": 15,
          "data": {
            "text/html": "<div>\n<style scoped>\n    .dataframe tbody tr th:only-of-type {\n        vertical-align: middle;\n    }\n\n    .dataframe tbody tr th {\n        vertical-align: top;\n    }\n\n    .dataframe thead th {\n        text-align: right;\n    }\n</style>\n<table border=\"1\" class=\"dataframe\">\n  <thead>\n    <tr style=\"text-align: right;\">\n      <th></th>\n      <th>index</th>\n      <th>user_id</th>\n      <th>post_id</th>\n      <th>category</th>\n      <th>post_type</th>\n      <th>academics</th>\n      <th>gender</th>\n    </tr>\n  </thead>\n  <tbody>\n    <tr>\n      <th>0</th>\n      <td>0</td>\n      <td>5df49b32cc709107827fb3c7</td>\n      <td>5ec821ddec493f4a2655889e</td>\n      <td>[Visual Arts, Graphic Design, Artistic design,...</td>\n      <td>artwork</td>\n      <td>undergraduate</td>\n      <td>female</td>\n    </tr>\n    <tr>\n      <th>1</th>\n      <td>1</td>\n      <td>5ed3748576027d35905ccaab</td>\n      <td>5ed4cbadbd514d602c1531a6</td>\n      <td>[Computer Technology, Computer Application, In...</td>\n      <td>blog</td>\n      <td>undergraduate</td>\n      <td>male</td>\n    </tr>\n    <tr>\n      <th>2</th>\n      <td>2</td>\n      <td>5ed0defa76027d35905cc2de</td>\n      <td>5eac305f10426255a7aa9dd3</td>\n      <td>[Photography]</td>\n      <td>artwork</td>\n      <td>undergraduate</td>\n      <td>male</td>\n    </tr>\n    <tr>\n      <th>3</th>\n      <td>3</td>\n      <td>5ed0defa76027d35905cc2de</td>\n      <td>5ed1ff0276027d35905cc60d</td>\n      <td>[Computer Technology, Cloud Computing]</td>\n      <td>blog</td>\n      <td>undergraduate</td>\n      <td>male</td>\n    </tr>\n    <tr>\n      <th>4</th>\n      <td>4</td>\n      <td>5ed0defa76027d35905cc2de</td>\n      <td>5ed3820f76027d35905ccac8</td>\n      <td>[Computer Technology, Computer Application, In...</td>\n      <td>blog</td>\n      <td>undergraduate</td>\n      <td>male</td>\n    </tr>\n  </tbody>\n</table>\n</div>",
            "text/plain": "   index                   user_id                   post_id  \\\n0      0  5df49b32cc709107827fb3c7  5ec821ddec493f4a2655889e   \n1      1  5ed3748576027d35905ccaab  5ed4cbadbd514d602c1531a6   \n2      2  5ed0defa76027d35905cc2de  5eac305f10426255a7aa9dd3   \n3      3  5ed0defa76027d35905cc2de  5ed1ff0276027d35905cc60d   \n4      4  5ed0defa76027d35905cc2de  5ed3820f76027d35905ccac8   \n\n                                            category post_type      academics  \\\n0  [Visual Arts, Graphic Design, Artistic design,...   artwork  undergraduate   \n1  [Computer Technology, Computer Application, In...      blog  undergraduate   \n2                                      [Photography]   artwork  undergraduate   \n3             [Computer Technology, Cloud Computing]      blog  undergraduate   \n4  [Computer Technology, Computer Application, In...      blog  undergraduate   \n\n   gender  \n0  female  \n1    male  \n2    male  \n3    male  \n4    male  "
          },
          "metadata": {}
        }
      ]
    },
    {
      "metadata": {
        "trusted": true
      },
      "cell_type": "code",
      "source": "final_df.info()",
      "execution_count": 16,
      "outputs": [
        {
          "output_type": "stream",
          "text": "<class 'pandas.core.frame.DataFrame'>\nRangeIndex: 1447 entries, 0 to 1446\nData columns (total 7 columns):\nindex        1447 non-null int64\nuser_id      1447 non-null object\npost_id      1447 non-null object\ncategory     1447 non-null object\npost_type    1447 non-null object\nacademics    1447 non-null object\ngender       1447 non-null object\ndtypes: int64(1), object(6)\nmemory usage: 79.2+ KB\n",
          "name": "stdout"
        }
      ]
    },
    {
      "metadata": {},
      "cell_type": "markdown",
      "source": "## Features that are going to checked in this Model"
    },
    {
      "metadata": {
        "trusted": true
      },
      "cell_type": "code",
      "source": "features = ['user_id','post_id','category','post_type', 'academics', 'gender']",
      "execution_count": 17,
      "outputs": []
    },
    {
      "metadata": {
        "trusted": true
      },
      "cell_type": "code",
      "source": "def combine_features(row):\n    list_of_categories=row['category']\n    if len(list_of_categories)==0:\n        return row['user_id']+\" \"+row['post_id']+\" \"+row['post_type']+\" \"+row['academics']+\" \"+row['gender']\n    elif len(list_of_categories)==1:\n        return row['user_id']+\" \"+row['post_id']+\" \"+list_of_categories[0]+\" \"+row['post_type']+\" \"+row['academics']+\" \"+row['gender']\n    else:\n        space_separated_categories=\" \".join(list_of_categories)\n        return row['user_id']+\" \"+row['post_id']+\" \"+space_separated_categories+\" \"+row['post_type']+\" \"+row['academics']+\" \"+row['gender']",
      "execution_count": 18,
      "outputs": []
    },
    {
      "metadata": {
        "trusted": true
      },
      "cell_type": "code",
      "source": "final_df[\"combined_features\"] = final_df.apply(combine_features,axis=1)\nfinal_df['combined_features'].head()",
      "execution_count": 19,
      "outputs": [
        {
          "output_type": "execute_result",
          "execution_count": 19,
          "data": {
            "text/plain": "0    5df49b32cc709107827fb3c7 5ec821ddec493f4a26558...\n1    5ed3748576027d35905ccaab 5ed4cbadbd514d602c153...\n2    5ed0defa76027d35905cc2de 5eac305f10426255a7aa9...\n3    5ed0defa76027d35905cc2de 5ed1ff0276027d35905cc...\n4    5ed0defa76027d35905cc2de 5ed3820f76027d35905cc...\nName: combined_features, dtype: object"
          },
          "metadata": {}
        }
      ]
    },
    {
      "metadata": {},
      "cell_type": "markdown",
      "source": "### Frequency Count"
    },
    {
      "metadata": {
        "trusted": true
      },
      "cell_type": "code",
      "source": "cv = CountVectorizer()\ncount_matrix = cv.fit_transform(final_df[\"combined_features\"])",
      "execution_count": 20,
      "outputs": []
    },
    {
      "metadata": {},
      "cell_type": "markdown",
      "source": "### Cosine Similarity"
    },
    {
      "metadata": {
        "trusted": true
      },
      "cell_type": "code",
      "source": "cosine_sim = cosine_similarity(count_matrix)\npd.DataFrame(cosine_sim).head()",
      "execution_count": 21,
      "outputs": [
        {
          "output_type": "execute_result",
          "execution_count": 21,
          "data": {
            "text/html": "<div>\n<style scoped>\n    .dataframe tbody tr th:only-of-type {\n        vertical-align: middle;\n    }\n\n    .dataframe tbody tr th {\n        vertical-align: top;\n    }\n\n    .dataframe thead th {\n        text-align: right;\n    }\n</style>\n<table border=\"1\" class=\"dataframe\">\n  <thead>\n    <tr style=\"text-align: right;\">\n      <th></th>\n      <th>0</th>\n      <th>1</th>\n      <th>2</th>\n      <th>3</th>\n      <th>4</th>\n      <th>5</th>\n      <th>6</th>\n      <th>7</th>\n      <th>8</th>\n      <th>9</th>\n      <th>...</th>\n      <th>1437</th>\n      <th>1438</th>\n      <th>1439</th>\n      <th>1440</th>\n      <th>1441</th>\n      <th>1442</th>\n      <th>1443</th>\n      <th>1444</th>\n      <th>1445</th>\n      <th>1446</th>\n    </tr>\n  </thead>\n  <tbody>\n    <tr>\n      <th>0</th>\n      <td>1.000000</td>\n      <td>0.062622</td>\n      <td>0.198030</td>\n      <td>0.080845</td>\n      <td>0.062622</td>\n      <td>0.153393</td>\n      <td>0.091670</td>\n      <td>0.129641</td>\n      <td>0.161690</td>\n      <td>0.198030</td>\n      <td>...</td>\n      <td>0.198030</td>\n      <td>0.171499</td>\n      <td>0.366679</td>\n      <td>0.198030</td>\n      <td>0.198030</td>\n      <td>0.198030</td>\n      <td>0.198030</td>\n      <td>0.198030</td>\n      <td>0.076696</td>\n      <td>0.514496</td>\n    </tr>\n    <tr>\n      <th>1</th>\n      <td>0.062622</td>\n      <td>1.000000</td>\n      <td>0.210819</td>\n      <td>0.602464</td>\n      <td>0.866667</td>\n      <td>0.163299</td>\n      <td>0.390360</td>\n      <td>0.621059</td>\n      <td>0.516398</td>\n      <td>0.316228</td>\n      <td>...</td>\n      <td>0.210819</td>\n      <td>0.182574</td>\n      <td>0.195180</td>\n      <td>0.210819</td>\n      <td>0.210819</td>\n      <td>0.210819</td>\n      <td>0.210819</td>\n      <td>0.210819</td>\n      <td>0.244949</td>\n      <td>0.182574</td>\n    </tr>\n    <tr>\n      <th>2</th>\n      <td>0.198030</td>\n      <td>0.210819</td>\n      <td>1.000000</td>\n      <td>0.408248</td>\n      <td>0.316228</td>\n      <td>0.516398</td>\n      <td>0.462910</td>\n      <td>0.109109</td>\n      <td>0.136083</td>\n      <td>0.166667</td>\n      <td>...</td>\n      <td>0.666667</td>\n      <td>0.433013</td>\n      <td>0.462910</td>\n      <td>0.500000</td>\n      <td>0.500000</td>\n      <td>0.500000</td>\n      <td>0.500000</td>\n      <td>0.500000</td>\n      <td>0.258199</td>\n      <td>0.433013</td>\n    </tr>\n    <tr>\n      <th>3</th>\n      <td>0.080845</td>\n      <td>0.602464</td>\n      <td>0.408248</td>\n      <td>1.000000</td>\n      <td>0.688530</td>\n      <td>0.316228</td>\n      <td>0.503953</td>\n      <td>0.623610</td>\n      <td>0.444444</td>\n      <td>0.272166</td>\n      <td>...</td>\n      <td>0.272166</td>\n      <td>0.235702</td>\n      <td>0.251976</td>\n      <td>0.272166</td>\n      <td>0.272166</td>\n      <td>0.272166</td>\n      <td>0.272166</td>\n      <td>0.272166</td>\n      <td>0.316228</td>\n      <td>0.235702</td>\n    </tr>\n    <tr>\n      <th>4</th>\n      <td>0.062622</td>\n      <td>0.866667</td>\n      <td>0.316228</td>\n      <td>0.688530</td>\n      <td>1.000000</td>\n      <td>0.244949</td>\n      <td>0.487950</td>\n      <td>0.621059</td>\n      <td>0.516398</td>\n      <td>0.316228</td>\n      <td>...</td>\n      <td>0.210819</td>\n      <td>0.182574</td>\n      <td>0.195180</td>\n      <td>0.210819</td>\n      <td>0.210819</td>\n      <td>0.210819</td>\n      <td>0.210819</td>\n      <td>0.210819</td>\n      <td>0.244949</td>\n      <td>0.182574</td>\n    </tr>\n  </tbody>\n</table>\n<p>5 rows × 1447 columns</p>\n</div>",
            "text/plain": "       0         1         2         3         4         5         6     \\\n0  1.000000  0.062622  0.198030  0.080845  0.062622  0.153393  0.091670   \n1  0.062622  1.000000  0.210819  0.602464  0.866667  0.163299  0.390360   \n2  0.198030  0.210819  1.000000  0.408248  0.316228  0.516398  0.462910   \n3  0.080845  0.602464  0.408248  1.000000  0.688530  0.316228  0.503953   \n4  0.062622  0.866667  0.316228  0.688530  1.000000  0.244949  0.487950   \n\n       7         8         9       ...         1437      1438      1439  \\\n0  0.129641  0.161690  0.198030    ...     0.198030  0.171499  0.366679   \n1  0.621059  0.516398  0.316228    ...     0.210819  0.182574  0.195180   \n2  0.109109  0.136083  0.166667    ...     0.666667  0.433013  0.462910   \n3  0.623610  0.444444  0.272166    ...     0.272166  0.235702  0.251976   \n4  0.621059  0.516398  0.316228    ...     0.210819  0.182574  0.195180   \n\n       1440      1441      1442      1443      1444      1445      1446  \n0  0.198030  0.198030  0.198030  0.198030  0.198030  0.076696  0.514496  \n1  0.210819  0.210819  0.210819  0.210819  0.210819  0.244949  0.182574  \n2  0.500000  0.500000  0.500000  0.500000  0.500000  0.258199  0.433013  \n3  0.272166  0.272166  0.272166  0.272166  0.272166  0.316228  0.235702  \n4  0.210819  0.210819  0.210819  0.210819  0.210819  0.244949  0.182574  \n\n[5 rows x 1447 columns]"
          },
          "metadata": {}
        }
      ]
    },
    {
      "metadata": {},
      "cell_type": "markdown",
      "source": "## Testing The Model With Sample Input"
    },
    {
      "metadata": {
        "trusted": true
      },
      "cell_type": "code",
      "source": "post_id_of_just_read_post='5ec821ddec493f4a2655889e'\nnumber_of_top_recommended_posts=10",
      "execution_count": 23,
      "outputs": []
    },
    {
      "metadata": {
        "trusted": true
      },
      "cell_type": "code",
      "source": "def get_post_id_from_index(index):\n    return final_df[final_df.index == index][\"post_id\"].values[0]\n\ndef get_index_from_post_id(post_id):\n    return final_df[final_df.post_id == post_id][\"index\"].values[0]",
      "execution_count": 24,
      "outputs": []
    },
    {
      "metadata": {
        "trusted": true
      },
      "cell_type": "code",
      "source": "post_index = get_index_from_post_id(post_id_of_just_read_post)\nsimilar_posts = list(enumerate(cosine_sim[post_index]))\nsorted_similar_posts = sorted(similar_posts,key=lambda x:x[1],reverse=True)[1:]\n\ni=0\nprint(\"Top {} similar post ids to \".format(number_of_top_recommended_posts)+post_id_of_just_read_post+\" are:\\n\")\nfor element in sorted_similar_posts:\n    recommended_post_id=get_post_id_from_index(element[0])\n    if recommended_post_id!=post_id_of_just_read_post:\n        print(get_post_id_from_index(element[0]))\n        i=i+1\n        if i>number_of_top_recommended_posts:\n            break",
      "execution_count": 25,
      "outputs": [
        {
          "output_type": "stream",
          "text": "Top 10 similar post ids to 5ec821ddec493f4a2655889e are:\n\n5e2d516fc85ab714a7da66dd\n5ecb72c0eaff6b0c3a58a48e\n5e2d516fc85ab714a7da66dd\n5dbc622a99cbb90e4339c7f6\n5ec8204cec493f4a26558893\n5ecb72c0eaff6b0c3a58a48e\n5e2d4d63c85ab714a7da66db\n5e2d4d63c85ab714a7da66db\n5e2d516fc85ab714a7da66dd\n5ecb72c0eaff6b0c3a58a48e\n5ecb72c0eaff6b0c3a58a48e\n",
          "name": "stdout"
        }
      ]
    },
    {
      "metadata": {},
      "cell_type": "markdown",
      "source": "# B. Collaborative Filtering Method"
    },
    {
      "metadata": {
        "trusted": true
      },
      "cell_type": "code",
      "source": "import pandas as pd\nimport seaborn as sns\nfrom scipy import sparse",
      "execution_count": 26,
      "outputs": []
    },
    {
      "metadata": {
        "trusted": true
      },
      "cell_type": "code",
      "source": "users=pd.read_csv('Mldata/users.csv')\nposts=pd.read_csv('Mldata/posts.csv')\nviews=pd.read_csv('Mldata/views.csv')",
      "execution_count": 27,
      "outputs": []
    },
    {
      "metadata": {},
      "cell_type": "markdown",
      "source": "## Model Building"
    },
    {
      "metadata": {
        "trusted": true
      },
      "cell_type": "code",
      "source": "total_users=users['_id']\ntotal_users_list=list(total_users)\n\ntotal_posts=posts['_id']\ntotal_posts_list=list(total_posts)",
      "execution_count": 28,
      "outputs": []
    },
    {
      "metadata": {},
      "cell_type": "markdown",
      "source": "### Creating Pivot Table"
    },
    {
      "metadata": {
        "trusted": true
      },
      "cell_type": "code",
      "source": "final_table=[]\nfor i in range(len(total_users)):\n    tempArr=[0]*len(total_posts)\n    final_table.append(tempArr)\n\nviews.drop(['timestamp'], axis=1, inplace=True)\nviews_array=views.values",
      "execution_count": 29,
      "outputs": []
    },
    {
      "metadata": {
        "trusted": true
      },
      "cell_type": "code",
      "source": "for user_id, post_id in views_array:\n    try:\n        index_of_user=total_users_list.index(user_id)\n        index_of_post=total_posts_list.index(post_id)\n        final_table[index_of_user][index_of_post]=5\n    except:\n        #'5eb3ba7f10426255a7aaa09e', '5e8bfacca3258347b42f261b' this two post_ids are in the views.csv dataset \n        # but not in posts.csv's '_id' dataset!!! so I have skip those two rows of views.csv dataset\n        pass",
      "execution_count": 30,
      "outputs": []
    },
    {
      "metadata": {
        "trusted": true
      },
      "cell_type": "code",
      "source": "final_df=pd.DataFrame(final_table, index=total_users_list, columns=total_posts_list)\nfinal_df.head()",
      "execution_count": 31,
      "outputs": [
        {
          "output_type": "execute_result",
          "execution_count": 31,
          "data": {
            "text/html": "<div>\n<style scoped>\n    .dataframe tbody tr th:only-of-type {\n        vertical-align: middle;\n    }\n\n    .dataframe tbody tr th {\n        vertical-align: top;\n    }\n\n    .dataframe thead th {\n        text-align: right;\n    }\n</style>\n<table border=\"1\" class=\"dataframe\">\n  <thead>\n    <tr style=\"text-align: right;\">\n      <th></th>\n      <th>5d62abaa65218653a132c956</th>\n      <th>5d6d39567fa40e1417a4931c</th>\n      <th>5d7d23315720533e15c3b1ee</th>\n      <th>5d7d405e5720533e15c3b1f3</th>\n      <th>5d80dfbc6c53455f896e600e</th>\n      <th>5d80e7c16c53455f896e6014</th>\n      <th>5d80ecfd6c53455f896e601a</th>\n      <th>5d81323a6c53455f896e6044</th>\n      <th>5d9b3514979d5962253c2f90</th>\n      <th>5d9b950768671220a1b2b153</th>\n      <th>...</th>\n      <th>5ed23cf876027d35905cc790</th>\n      <th>5ed23d4276027d35905cc798</th>\n      <th>5ed23e4d76027d35905cc7b8</th>\n      <th>5ed2502b76027d35905cc7db</th>\n      <th>5ed3476576027d35905cca1d</th>\n      <th>5ed3791976027d35905ccab6</th>\n      <th>5ed3820f76027d35905ccac8</th>\n      <th>5ed3ef4cbd514d602c1530f2</th>\n      <th>5ed415c6bd514d602c15312d</th>\n      <th>5ed4cbadbd514d602c1531a6</th>\n    </tr>\n  </thead>\n  <tbody>\n    <tr>\n      <th>5d60098a653a331687083238</th>\n      <td>5</td>\n      <td>5</td>\n      <td>0</td>\n      <td>0</td>\n      <td>0</td>\n      <td>0</td>\n      <td>0</td>\n      <td>0</td>\n      <td>0</td>\n      <td>0</td>\n      <td>...</td>\n      <td>0</td>\n      <td>0</td>\n      <td>0</td>\n      <td>0</td>\n      <td>0</td>\n      <td>0</td>\n      <td>5</td>\n      <td>0</td>\n      <td>0</td>\n      <td>0</td>\n    </tr>\n    <tr>\n      <th>5d610ae1653a331687083239</th>\n      <td>0</td>\n      <td>0</td>\n      <td>0</td>\n      <td>0</td>\n      <td>5</td>\n      <td>0</td>\n      <td>0</td>\n      <td>0</td>\n      <td>0</td>\n      <td>0</td>\n      <td>...</td>\n      <td>0</td>\n      <td>0</td>\n      <td>0</td>\n      <td>0</td>\n      <td>0</td>\n      <td>0</td>\n      <td>0</td>\n      <td>0</td>\n      <td>0</td>\n      <td>0</td>\n    </tr>\n    <tr>\n      <th>5d618359fc5fcf3bdd9a0910</th>\n      <td>0</td>\n      <td>0</td>\n      <td>0</td>\n      <td>0</td>\n      <td>0</td>\n      <td>5</td>\n      <td>0</td>\n      <td>0</td>\n      <td>0</td>\n      <td>0</td>\n      <td>...</td>\n      <td>0</td>\n      <td>0</td>\n      <td>0</td>\n      <td>0</td>\n      <td>0</td>\n      <td>0</td>\n      <td>0</td>\n      <td>0</td>\n      <td>0</td>\n      <td>0</td>\n    </tr>\n    <tr>\n      <th>5d6d2bb87fa40e1417a49315</th>\n      <td>0</td>\n      <td>0</td>\n      <td>0</td>\n      <td>0</td>\n      <td>0</td>\n      <td>0</td>\n      <td>0</td>\n      <td>0</td>\n      <td>0</td>\n      <td>0</td>\n      <td>...</td>\n      <td>0</td>\n      <td>0</td>\n      <td>0</td>\n      <td>0</td>\n      <td>0</td>\n      <td>0</td>\n      <td>0</td>\n      <td>0</td>\n      <td>0</td>\n      <td>0</td>\n    </tr>\n    <tr>\n      <th>5d7c994d5720533e15c3b1e9</th>\n      <td>0</td>\n      <td>0</td>\n      <td>0</td>\n      <td>5</td>\n      <td>0</td>\n      <td>0</td>\n      <td>0</td>\n      <td>0</td>\n      <td>0</td>\n      <td>0</td>\n      <td>...</td>\n      <td>0</td>\n      <td>0</td>\n      <td>0</td>\n      <td>0</td>\n      <td>0</td>\n      <td>0</td>\n      <td>0</td>\n      <td>0</td>\n      <td>0</td>\n      <td>0</td>\n    </tr>\n  </tbody>\n</table>\n<p>5 rows × 493 columns</p>\n</div>",
            "text/plain": "                          5d62abaa65218653a132c956  5d6d39567fa40e1417a4931c  \\\n5d60098a653a331687083238                         5                         5   \n5d610ae1653a331687083239                         0                         0   \n5d618359fc5fcf3bdd9a0910                         0                         0   \n5d6d2bb87fa40e1417a49315                         0                         0   \n5d7c994d5720533e15c3b1e9                         0                         0   \n\n                          5d7d23315720533e15c3b1ee  5d7d405e5720533e15c3b1f3  \\\n5d60098a653a331687083238                         0                         0   \n5d610ae1653a331687083239                         0                         0   \n5d618359fc5fcf3bdd9a0910                         0                         0   \n5d6d2bb87fa40e1417a49315                         0                         0   \n5d7c994d5720533e15c3b1e9                         0                         5   \n\n                          5d80dfbc6c53455f896e600e  5d80e7c16c53455f896e6014  \\\n5d60098a653a331687083238                         0                         0   \n5d610ae1653a331687083239                         5                         0   \n5d618359fc5fcf3bdd9a0910                         0                         5   \n5d6d2bb87fa40e1417a49315                         0                         0   \n5d7c994d5720533e15c3b1e9                         0                         0   \n\n                          5d80ecfd6c53455f896e601a  5d81323a6c53455f896e6044  \\\n5d60098a653a331687083238                         0                         0   \n5d610ae1653a331687083239                         0                         0   \n5d618359fc5fcf3bdd9a0910                         0                         0   \n5d6d2bb87fa40e1417a49315                         0                         0   \n5d7c994d5720533e15c3b1e9                         0                         0   \n\n                          5d9b3514979d5962253c2f90  5d9b950768671220a1b2b153  \\\n5d60098a653a331687083238                         0                         0   \n5d610ae1653a331687083239                         0                         0   \n5d618359fc5fcf3bdd9a0910                         0                         0   \n5d6d2bb87fa40e1417a49315                         0                         0   \n5d7c994d5720533e15c3b1e9                         0                         0   \n\n                                    ...             5ed23cf876027d35905cc790  \\\n5d60098a653a331687083238            ...                                    0   \n5d610ae1653a331687083239            ...                                    0   \n5d618359fc5fcf3bdd9a0910            ...                                    0   \n5d6d2bb87fa40e1417a49315            ...                                    0   \n5d7c994d5720533e15c3b1e9            ...                                    0   \n\n                          5ed23d4276027d35905cc798  5ed23e4d76027d35905cc7b8  \\\n5d60098a653a331687083238                         0                         0   \n5d610ae1653a331687083239                         0                         0   \n5d618359fc5fcf3bdd9a0910                         0                         0   \n5d6d2bb87fa40e1417a49315                         0                         0   \n5d7c994d5720533e15c3b1e9                         0                         0   \n\n                          5ed2502b76027d35905cc7db  5ed3476576027d35905cca1d  \\\n5d60098a653a331687083238                         0                         0   \n5d610ae1653a331687083239                         0                         0   \n5d618359fc5fcf3bdd9a0910                         0                         0   \n5d6d2bb87fa40e1417a49315                         0                         0   \n5d7c994d5720533e15c3b1e9                         0                         0   \n\n                          5ed3791976027d35905ccab6  5ed3820f76027d35905ccac8  \\\n5d60098a653a331687083238                         0                         5   \n5d610ae1653a331687083239                         0                         0   \n5d618359fc5fcf3bdd9a0910                         0                         0   \n5d6d2bb87fa40e1417a49315                         0                         0   \n5d7c994d5720533e15c3b1e9                         0                         0   \n\n                          5ed3ef4cbd514d602c1530f2  5ed415c6bd514d602c15312d  \\\n5d60098a653a331687083238                         0                         0   \n5d610ae1653a331687083239                         0                         0   \n5d618359fc5fcf3bdd9a0910                         0                         0   \n5d6d2bb87fa40e1417a49315                         0                         0   \n5d7c994d5720533e15c3b1e9                         0                         0   \n\n                          5ed4cbadbd514d602c1531a6  \n5d60098a653a331687083238                         0  \n5d610ae1653a331687083239                         0  \n5d618359fc5fcf3bdd9a0910                         0  \n5d6d2bb87fa40e1417a49315                         0  \n5d7c994d5720533e15c3b1e9                         0  \n\n[5 rows x 493 columns]"
          },
          "metadata": {}
        }
      ]
    },
    {
      "metadata": {
        "trusted": true
      },
      "cell_type": "code",
      "source": "final_df.info()",
      "execution_count": 32,
      "outputs": [
        {
          "output_type": "stream",
          "text": "<class 'pandas.core.frame.DataFrame'>\nIndex: 118 entries, 5d60098a653a331687083238 to 5ed3e898bd514d602c1530de\nColumns: 493 entries, 5d62abaa65218653a132c956 to 5ed4cbadbd514d602c1531a6\ndtypes: int64(493)\nmemory usage: 455.4+ KB\n",
          "name": "stdout"
        }
      ]
    },
    {
      "metadata": {},
      "cell_type": "markdown",
      "source": "### Pearson Correlation"
    },
    {
      "metadata": {
        "trusted": true
      },
      "cell_type": "code",
      "source": "corrMatrix = final_df.corr(method='pearson')\ncorrMatrix.head()",
      "execution_count": 33,
      "outputs": [
        {
          "output_type": "execute_result",
          "execution_count": 33,
          "data": {
            "text/html": "<div>\n<style scoped>\n    .dataframe tbody tr th:only-of-type {\n        vertical-align: middle;\n    }\n\n    .dataframe tbody tr th {\n        vertical-align: top;\n    }\n\n    .dataframe thead th {\n        text-align: right;\n    }\n</style>\n<table border=\"1\" class=\"dataframe\">\n  <thead>\n    <tr style=\"text-align: right;\">\n      <th></th>\n      <th>5d62abaa65218653a132c956</th>\n      <th>5d6d39567fa40e1417a4931c</th>\n      <th>5d7d23315720533e15c3b1ee</th>\n      <th>5d7d405e5720533e15c3b1f3</th>\n      <th>5d80dfbc6c53455f896e600e</th>\n      <th>5d80e7c16c53455f896e6014</th>\n      <th>5d80ecfd6c53455f896e601a</th>\n      <th>5d81323a6c53455f896e6044</th>\n      <th>5d9b3514979d5962253c2f90</th>\n      <th>5d9b950768671220a1b2b153</th>\n      <th>...</th>\n      <th>5ed23cf876027d35905cc790</th>\n      <th>5ed23d4276027d35905cc798</th>\n      <th>5ed23e4d76027d35905cc7b8</th>\n      <th>5ed2502b76027d35905cc7db</th>\n      <th>5ed3476576027d35905cca1d</th>\n      <th>5ed3791976027d35905ccab6</th>\n      <th>5ed3820f76027d35905ccac8</th>\n      <th>5ed3ef4cbd514d602c1530f2</th>\n      <th>5ed415c6bd514d602c15312d</th>\n      <th>5ed4cbadbd514d602c1531a6</th>\n    </tr>\n  </thead>\n  <tbody>\n    <tr>\n      <th>5d62abaa65218653a132c956</th>\n      <td>1.000000</td>\n      <td>1.000000</td>\n      <td>-0.012139</td>\n      <td>-0.014932</td>\n      <td>-0.012139</td>\n      <td>-0.012139</td>\n      <td>-0.008547</td>\n      <td>-0.008547</td>\n      <td>-0.008547</td>\n      <td>-0.008547</td>\n      <td>...</td>\n      <td>-0.008547</td>\n      <td>-0.008547</td>\n      <td>-0.008547</td>\n      <td>-0.017317</td>\n      <td>-0.012139</td>\n      <td>-0.012139</td>\n      <td>0.493548</td>\n      <td>-0.008547</td>\n      <td>-0.012139</td>\n      <td>-0.008547</td>\n    </tr>\n    <tr>\n      <th>5d6d39567fa40e1417a4931c</th>\n      <td>1.000000</td>\n      <td>1.000000</td>\n      <td>-0.012139</td>\n      <td>-0.014932</td>\n      <td>-0.012139</td>\n      <td>-0.012139</td>\n      <td>-0.008547</td>\n      <td>-0.008547</td>\n      <td>-0.008547</td>\n      <td>-0.008547</td>\n      <td>...</td>\n      <td>-0.008547</td>\n      <td>-0.008547</td>\n      <td>-0.008547</td>\n      <td>-0.017317</td>\n      <td>-0.012139</td>\n      <td>-0.012139</td>\n      <td>0.493548</td>\n      <td>-0.008547</td>\n      <td>-0.012139</td>\n      <td>-0.008547</td>\n    </tr>\n    <tr>\n      <th>5d7d23315720533e15c3b1ee</th>\n      <td>-0.012139</td>\n      <td>-0.012139</td>\n      <td>1.000000</td>\n      <td>0.395881</td>\n      <td>-0.017241</td>\n      <td>-0.017241</td>\n      <td>-0.012139</td>\n      <td>-0.012139</td>\n      <td>-0.012139</td>\n      <td>-0.012139</td>\n      <td>...</td>\n      <td>-0.012139</td>\n      <td>-0.012139</td>\n      <td>-0.012139</td>\n      <td>-0.024596</td>\n      <td>-0.017241</td>\n      <td>-0.017241</td>\n      <td>-0.024596</td>\n      <td>-0.012139</td>\n      <td>-0.017241</td>\n      <td>-0.012139</td>\n    </tr>\n    <tr>\n      <th>5d7d405e5720533e15c3b1f3</th>\n      <td>-0.014932</td>\n      <td>-0.014932</td>\n      <td>0.395881</td>\n      <td>1.000000</td>\n      <td>-0.021208</td>\n      <td>-0.021208</td>\n      <td>-0.014932</td>\n      <td>-0.014932</td>\n      <td>-0.014932</td>\n      <td>-0.014932</td>\n      <td>...</td>\n      <td>-0.014932</td>\n      <td>-0.014932</td>\n      <td>-0.014932</td>\n      <td>-0.030254</td>\n      <td>-0.021208</td>\n      <td>-0.021208</td>\n      <td>-0.030254</td>\n      <td>-0.014932</td>\n      <td>-0.021208</td>\n      <td>-0.014932</td>\n    </tr>\n    <tr>\n      <th>5d80dfbc6c53455f896e600e</th>\n      <td>-0.012139</td>\n      <td>-0.012139</td>\n      <td>-0.017241</td>\n      <td>-0.021208</td>\n      <td>1.000000</td>\n      <td>0.491379</td>\n      <td>-0.012139</td>\n      <td>-0.012139</td>\n      <td>-0.012139</td>\n      <td>-0.012139</td>\n      <td>...</td>\n      <td>0.704078</td>\n      <td>-0.012139</td>\n      <td>0.704078</td>\n      <td>0.338194</td>\n      <td>0.491379</td>\n      <td>0.491379</td>\n      <td>0.338194</td>\n      <td>0.704078</td>\n      <td>0.491379</td>\n      <td>-0.012139</td>\n    </tr>\n  </tbody>\n</table>\n<p>5 rows × 493 columns</p>\n</div>",
            "text/plain": "                          5d62abaa65218653a132c956  5d6d39567fa40e1417a4931c  \\\n5d62abaa65218653a132c956                  1.000000                  1.000000   \n5d6d39567fa40e1417a4931c                  1.000000                  1.000000   \n5d7d23315720533e15c3b1ee                 -0.012139                 -0.012139   \n5d7d405e5720533e15c3b1f3                 -0.014932                 -0.014932   \n5d80dfbc6c53455f896e600e                 -0.012139                 -0.012139   \n\n                          5d7d23315720533e15c3b1ee  5d7d405e5720533e15c3b1f3  \\\n5d62abaa65218653a132c956                 -0.012139                 -0.014932   \n5d6d39567fa40e1417a4931c                 -0.012139                 -0.014932   \n5d7d23315720533e15c3b1ee                  1.000000                  0.395881   \n5d7d405e5720533e15c3b1f3                  0.395881                  1.000000   \n5d80dfbc6c53455f896e600e                 -0.017241                 -0.021208   \n\n                          5d80dfbc6c53455f896e600e  5d80e7c16c53455f896e6014  \\\n5d62abaa65218653a132c956                 -0.012139                 -0.012139   \n5d6d39567fa40e1417a4931c                 -0.012139                 -0.012139   \n5d7d23315720533e15c3b1ee                 -0.017241                 -0.017241   \n5d7d405e5720533e15c3b1f3                 -0.021208                 -0.021208   \n5d80dfbc6c53455f896e600e                  1.000000                  0.491379   \n\n                          5d80ecfd6c53455f896e601a  5d81323a6c53455f896e6044  \\\n5d62abaa65218653a132c956                 -0.008547                 -0.008547   \n5d6d39567fa40e1417a4931c                 -0.008547                 -0.008547   \n5d7d23315720533e15c3b1ee                 -0.012139                 -0.012139   \n5d7d405e5720533e15c3b1f3                 -0.014932                 -0.014932   \n5d80dfbc6c53455f896e600e                 -0.012139                 -0.012139   \n\n                          5d9b3514979d5962253c2f90  5d9b950768671220a1b2b153  \\\n5d62abaa65218653a132c956                 -0.008547                 -0.008547   \n5d6d39567fa40e1417a4931c                 -0.008547                 -0.008547   \n5d7d23315720533e15c3b1ee                 -0.012139                 -0.012139   \n5d7d405e5720533e15c3b1f3                 -0.014932                 -0.014932   \n5d80dfbc6c53455f896e600e                 -0.012139                 -0.012139   \n\n                                    ...             5ed23cf876027d35905cc790  \\\n5d62abaa65218653a132c956            ...                            -0.008547   \n5d6d39567fa40e1417a4931c            ...                            -0.008547   \n5d7d23315720533e15c3b1ee            ...                            -0.012139   \n5d7d405e5720533e15c3b1f3            ...                            -0.014932   \n5d80dfbc6c53455f896e600e            ...                             0.704078   \n\n                          5ed23d4276027d35905cc798  5ed23e4d76027d35905cc7b8  \\\n5d62abaa65218653a132c956                 -0.008547                 -0.008547   \n5d6d39567fa40e1417a4931c                 -0.008547                 -0.008547   \n5d7d23315720533e15c3b1ee                 -0.012139                 -0.012139   \n5d7d405e5720533e15c3b1f3                 -0.014932                 -0.014932   \n5d80dfbc6c53455f896e600e                 -0.012139                  0.704078   \n\n                          5ed2502b76027d35905cc7db  5ed3476576027d35905cca1d  \\\n5d62abaa65218653a132c956                 -0.017317                 -0.012139   \n5d6d39567fa40e1417a4931c                 -0.017317                 -0.012139   \n5d7d23315720533e15c3b1ee                 -0.024596                 -0.017241   \n5d7d405e5720533e15c3b1f3                 -0.030254                 -0.021208   \n5d80dfbc6c53455f896e600e                  0.338194                  0.491379   \n\n                          5ed3791976027d35905ccab6  5ed3820f76027d35905ccac8  \\\n5d62abaa65218653a132c956                 -0.012139                  0.493548   \n5d6d39567fa40e1417a4931c                 -0.012139                  0.493548   \n5d7d23315720533e15c3b1ee                 -0.017241                 -0.024596   \n5d7d405e5720533e15c3b1f3                 -0.021208                 -0.030254   \n5d80dfbc6c53455f896e600e                  0.491379                  0.338194   \n\n                          5ed3ef4cbd514d602c1530f2  5ed415c6bd514d602c15312d  \\\n5d62abaa65218653a132c956                 -0.008547                 -0.012139   \n5d6d39567fa40e1417a4931c                 -0.008547                 -0.012139   \n5d7d23315720533e15c3b1ee                 -0.012139                 -0.017241   \n5d7d405e5720533e15c3b1f3                 -0.014932                 -0.021208   \n5d80dfbc6c53455f896e600e                  0.704078                  0.491379   \n\n                          5ed4cbadbd514d602c1531a6  \n5d62abaa65218653a132c956                 -0.008547  \n5d6d39567fa40e1417a4931c                 -0.008547  \n5d7d23315720533e15c3b1ee                 -0.012139  \n5d7d405e5720533e15c3b1f3                 -0.014932  \n5d80dfbc6c53455f896e600e                 -0.012139  \n\n[5 rows x 493 columns]"
          },
          "metadata": {}
        }
      ]
    },
    {
      "metadata": {},
      "cell_type": "markdown",
      "source": "## Testing The Model With Sample Input"
    },
    {
      "metadata": {
        "trusted": true
      },
      "cell_type": "code",
      "source": "test_user = [\"5d6d39567fa40e1417a4931c\",\"5ed2502b76027d35905cc7db\",\"5ed415c6bd514d602c15312d\"]\nnumber_of_total_recommended_posts=10\n\nhighest_rating=5\ndef get_similar(post_id):\n    rating=5\n    similar_score = corrMatrix[post_id]*(rating-highest_rating/2)\n    similar_score = similar_score.sort_values(ascending=False)\n    return similar_score\n\nsimilar_scores = pd.DataFrame()\nfor already_read_post in test_user:\n    similar_scores = similar_scores.append(get_similar(already_read_post),ignore_index = True)\n\nsimilar_scores.head(len(test_user))",
      "execution_count": 37,
      "outputs": [
        {
          "output_type": "execute_result",
          "execution_count": 37,
          "data": {
            "text/html": "<div>\n<style scoped>\n    .dataframe tbody tr th:only-of-type {\n        vertical-align: middle;\n    }\n\n    .dataframe tbody tr th {\n        vertical-align: top;\n    }\n\n    .dataframe thead th {\n        text-align: right;\n    }\n</style>\n<table border=\"1\" class=\"dataframe\">\n  <thead>\n    <tr style=\"text-align: right;\">\n      <th></th>\n      <th>5d62abaa65218653a132c956</th>\n      <th>5d6d39567fa40e1417a4931c</th>\n      <th>5d7d23315720533e15c3b1ee</th>\n      <th>5d7d405e5720533e15c3b1f3</th>\n      <th>5d80dfbc6c53455f896e600e</th>\n      <th>5d80e7c16c53455f896e6014</th>\n      <th>5d80ecfd6c53455f896e601a</th>\n      <th>5d81323a6c53455f896e6044</th>\n      <th>5d9b3514979d5962253c2f90</th>\n      <th>5d9b950768671220a1b2b153</th>\n      <th>...</th>\n      <th>5ed23cf876027d35905cc790</th>\n      <th>5ed23d4276027d35905cc798</th>\n      <th>5ed23e4d76027d35905cc7b8</th>\n      <th>5ed2502b76027d35905cc7db</th>\n      <th>5ed3476576027d35905cca1d</th>\n      <th>5ed3791976027d35905ccab6</th>\n      <th>5ed3820f76027d35905ccac8</th>\n      <th>5ed3ef4cbd514d602c1530f2</th>\n      <th>5ed415c6bd514d602c15312d</th>\n      <th>5ed4cbadbd514d602c1531a6</th>\n    </tr>\n  </thead>\n  <tbody>\n    <tr>\n      <th>0</th>\n      <td>2.500000</td>\n      <td>2.500000</td>\n      <td>-0.030348</td>\n      <td>-0.037330</td>\n      <td>-0.030348</td>\n      <td>-0.030348</td>\n      <td>-0.021368</td>\n      <td>-0.021368</td>\n      <td>-0.021368</td>\n      <td>-0.021368</td>\n      <td>...</td>\n      <td>-0.021368</td>\n      <td>-0.021368</td>\n      <td>-0.021368</td>\n      <td>-0.043294</td>\n      <td>-0.030348</td>\n      <td>-0.030348</td>\n      <td>1.233870</td>\n      <td>-0.021368</td>\n      <td>-0.030348</td>\n      <td>-0.021368</td>\n    </tr>\n    <tr>\n      <th>1</th>\n      <td>-0.043294</td>\n      <td>-0.043294</td>\n      <td>-0.061490</td>\n      <td>-0.075636</td>\n      <td>0.845486</td>\n      <td>0.845486</td>\n      <td>-0.043294</td>\n      <td>-0.043294</td>\n      <td>-0.043294</td>\n      <td>-0.043294</td>\n      <td>...</td>\n      <td>1.233870</td>\n      <td>-0.043294</td>\n      <td>1.233870</td>\n      <td>2.500000</td>\n      <td>0.845486</td>\n      <td>0.845486</td>\n      <td>0.559211</td>\n      <td>1.233870</td>\n      <td>0.845486</td>\n      <td>-0.043294</td>\n    </tr>\n    <tr>\n      <th>2</th>\n      <td>-0.030348</td>\n      <td>-0.030348</td>\n      <td>-0.043103</td>\n      <td>-0.053020</td>\n      <td>1.228448</td>\n      <td>1.228448</td>\n      <td>-0.030348</td>\n      <td>-0.030348</td>\n      <td>-0.030348</td>\n      <td>-0.030348</td>\n      <td>...</td>\n      <td>1.760196</td>\n      <td>1.760196</td>\n      <td>1.760196</td>\n      <td>0.845486</td>\n      <td>1.228448</td>\n      <td>1.228448</td>\n      <td>1.752461</td>\n      <td>1.760196</td>\n      <td>2.500000</td>\n      <td>-0.030348</td>\n    </tr>\n  </tbody>\n</table>\n<p>3 rows × 493 columns</p>\n</div>",
            "text/plain": "   5d62abaa65218653a132c956  5d6d39567fa40e1417a4931c  \\\n0                  2.500000                  2.500000   \n1                 -0.043294                 -0.043294   \n2                 -0.030348                 -0.030348   \n\n   5d7d23315720533e15c3b1ee  5d7d405e5720533e15c3b1f3  \\\n0                 -0.030348                 -0.037330   \n1                 -0.061490                 -0.075636   \n2                 -0.043103                 -0.053020   \n\n   5d80dfbc6c53455f896e600e  5d80e7c16c53455f896e6014  \\\n0                 -0.030348                 -0.030348   \n1                  0.845486                  0.845486   \n2                  1.228448                  1.228448   \n\n   5d80ecfd6c53455f896e601a  5d81323a6c53455f896e6044  \\\n0                 -0.021368                 -0.021368   \n1                 -0.043294                 -0.043294   \n2                 -0.030348                 -0.030348   \n\n   5d9b3514979d5962253c2f90  5d9b950768671220a1b2b153  \\\n0                 -0.021368                 -0.021368   \n1                 -0.043294                 -0.043294   \n2                 -0.030348                 -0.030348   \n\n             ...             5ed23cf876027d35905cc790  \\\n0            ...                            -0.021368   \n1            ...                             1.233870   \n2            ...                             1.760196   \n\n   5ed23d4276027d35905cc798  5ed23e4d76027d35905cc7b8  \\\n0                 -0.021368                 -0.021368   \n1                 -0.043294                  1.233870   \n2                  1.760196                  1.760196   \n\n   5ed2502b76027d35905cc7db  5ed3476576027d35905cca1d  \\\n0                 -0.043294                 -0.030348   \n1                  2.500000                  0.845486   \n2                  0.845486                  1.228448   \n\n   5ed3791976027d35905ccab6  5ed3820f76027d35905ccac8  \\\n0                 -0.030348                  1.233870   \n1                  0.845486                  0.559211   \n2                  1.228448                  1.752461   \n\n   5ed3ef4cbd514d602c1530f2  5ed415c6bd514d602c15312d  \\\n0                 -0.021368                 -0.030348   \n1                  1.233870                  0.845486   \n2                  1.760196                  2.500000   \n\n   5ed4cbadbd514d602c1531a6  \n0                 -0.021368  \n1                 -0.043294  \n2                 -0.030348  \n\n[3 rows x 493 columns]"
          },
          "metadata": {}
        }
      ]
    },
    {
      "metadata": {
        "trusted": true
      },
      "cell_type": "code",
      "source": "total_recommendations=similar_scores.sum().sort_values(ascending=False).head(number_of_total_recommended_posts)\ntotal_recommendations",
      "execution_count": 44,
      "outputs": [
        {
          "output_type": "execute_result",
          "execution_count": 44,
          "data": {
            "text/plain": "5ed3820f76027d35905ccac8    3.545542\n5ed415c6bd514d602c15312d    3.315138\n5ed2502b76027d35905cc7db    3.302192\n5ed23a6376027d35905cc73b    2.972699\n5ed23c8676027d35905cc780    2.972699\n5ed2378276027d35905cc6b5    2.972699\n5ed237d676027d35905cc6bd    2.972699\n5ed238d376027d35905cc6e5    2.972699\n5ed23b0776027d35905cc746    2.972699\n5ed23b6276027d35905cc74f    2.972699\ndtype: float64"
          },
          "metadata": {}
        }
      ]
    },
    {
      "metadata": {
        "trusted": true
      },
      "cell_type": "code",
      "source": "total_index=total_recommendations.index\ntotal_value=total_recommendations.values",
      "execution_count": 45,
      "outputs": []
    },
    {
      "metadata": {
        "trusted": true
      },
      "cell_type": "code",
      "source": "final_recommedation_array=[]\ncount=0\nfor index in total_index:\n    if index not in test_user:\n        final_recommedation_array.append([index, total_value[count]])    \n    count+=1\nfinal_recommended_df=pd.DataFrame(final_recommedation_array, columns=['post_id', 'Recommendation_Score'])\nfinal_recommended_df",
      "execution_count": 46,
      "outputs": [
        {
          "output_type": "execute_result",
          "execution_count": 46,
          "data": {
            "text/html": "<div>\n<style scoped>\n    .dataframe tbody tr th:only-of-type {\n        vertical-align: middle;\n    }\n\n    .dataframe tbody tr th {\n        vertical-align: top;\n    }\n\n    .dataframe thead th {\n        text-align: right;\n    }\n</style>\n<table border=\"1\" class=\"dataframe\">\n  <thead>\n    <tr style=\"text-align: right;\">\n      <th></th>\n      <th>post_id</th>\n      <th>Recommendation_Score</th>\n    </tr>\n  </thead>\n  <tbody>\n    <tr>\n      <th>0</th>\n      <td>5ed3820f76027d35905ccac8</td>\n      <td>3.545542</td>\n    </tr>\n    <tr>\n      <th>1</th>\n      <td>5ed23a6376027d35905cc73b</td>\n      <td>2.972699</td>\n    </tr>\n    <tr>\n      <th>2</th>\n      <td>5ed23c8676027d35905cc780</td>\n      <td>2.972699</td>\n    </tr>\n    <tr>\n      <th>3</th>\n      <td>5ed2378276027d35905cc6b5</td>\n      <td>2.972699</td>\n    </tr>\n    <tr>\n      <th>4</th>\n      <td>5ed237d676027d35905cc6bd</td>\n      <td>2.972699</td>\n    </tr>\n    <tr>\n      <th>5</th>\n      <td>5ed238d376027d35905cc6e5</td>\n      <td>2.972699</td>\n    </tr>\n    <tr>\n      <th>6</th>\n      <td>5ed23b0776027d35905cc746</td>\n      <td>2.972699</td>\n    </tr>\n    <tr>\n      <th>7</th>\n      <td>5ed23b6276027d35905cc74f</td>\n      <td>2.972699</td>\n    </tr>\n  </tbody>\n</table>\n</div>",
            "text/plain": "                    post_id  Recommendation_Score\n0  5ed3820f76027d35905ccac8              3.545542\n1  5ed23a6376027d35905cc73b              2.972699\n2  5ed23c8676027d35905cc780              2.972699\n3  5ed2378276027d35905cc6b5              2.972699\n4  5ed237d676027d35905cc6bd              2.972699\n5  5ed238d376027d35905cc6e5              2.972699\n6  5ed23b0776027d35905cc746              2.972699\n7  5ed23b6276027d35905cc74f              2.972699"
          },
          "metadata": {}
        }
      ]
    }
  ],
  "metadata": {
    "kernelspec": {
      "name": "python36",
      "display_name": "Python 3.6",
      "language": "python"
    },
    "language_info": {
      "mimetype": "text/x-python",
      "nbconvert_exporter": "python",
      "name": "python",
      "pygments_lexer": "ipython3",
      "version": "3.6.6",
      "file_extension": ".py",
      "codemirror_mode": {
        "version": 3,
        "name": "ipython"
      }
    }
  },
  "nbformat": 4,
  "nbformat_minor": 2
}